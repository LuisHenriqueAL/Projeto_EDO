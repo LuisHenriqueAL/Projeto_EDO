{
 "cells": [
  {
   "cell_type": "markdown",
   "id": "5843214f",
   "metadata": {},
   "source": [
    "### LEMBRAR DE ENUMERAR AS IMAGENS\n",
    "### Lembrar de por em itálico as variáveis ou tirar os itálicos"
   ]
  },
  {
   "cell_type": "markdown",
   "id": "5ff63af6",
   "metadata": {},
   "source": [
    "# INTRODUÇÃO"
   ]
  },
  {
   "cell_type": "markdown",
   "id": "9f83cbe6",
   "metadata": {},
   "source": [
    "F. F. Campos (2018, p. 427) explica a importância das equações diferenciais ordinárias (EDO) para a modelagem e resolução matemática de diversos fenômenos físicos, químicos, biológicos, etc., quando tais fenômneos são descritos em termo de taxa de variação. Como, por exemplo, a EDO a seguir,\n",
    "<br>\n",
    "<img src=\"equacao_1.png\">\n",
    "<div align = \"right\">\n",
    "    <font size = \"3\">(Figura 1)</font>\n",
    "    \n",
    "</div>\n",
    "<br>"
   ]
  },
  {
   "cell_type": "markdown",
   "id": "94d21d70",
   "metadata": {},
   "source": [
    "que descreve a taxa de variação da corrente elétrica <i>i</i> em função do tempo <i>t</i> em um circuito resistor-indutor (RL), em que <i>V</i> é a tensão entre dois pontos do ciruito, <i>R</i> é a resistência e <i>L</i> é a indutância. \n",
    "<br>\n",
    "Tal equação denota uma EDO de primeira ordem, uma vez que a derivada de maior ordem <i>di(t)/dt</i> é de ordem 1. Dependendo do grau <i>n</i> da derivada, a EDO será de ordem <i>n</i>. Como podemos ver na próxima equação,\n",
    "<br>\n",
    "<img src=\"equacao_2.png\">\n",
    "<div align = \"right\">\n",
    "    <font size = \"3\">(Figura 2)</font>\n",
    "    \n",
    "</div>\n",
    "<br>"
   ]
  },
  {
   "cell_type": "markdown",
   "id": "24c57826",
   "metadata": {},
   "source": [
    "onde <i>C</i> é a capacitância do circuito e a EDO é de segunda ordem."
   ]
  },
  {
   "cell_type": "markdown",
   "id": "30440518",
   "metadata": {},
   "source": [
    "Para resoluções de EDOs de ordem <i>n</i> existem algumas formas de soluções que podem ser utilizadas. De forma geral, a solução de uma EDO se dá a partir de uma função que satisfaz a equação diferencial e também as condições iniciais na função. Em resoluções analíticas, encontra-se uma solução geral que possui constantes quaisquer e então define-se essas constantes de modo que a expressão combine com as condições iniciais. Porém, esse método analítico restringi-se a apenas um grupo específico de equações, visto que nem toda EDO pode ser resolvida através desse meio.\n",
    "<br>\n",
    "Para o presente trabalho, serão utilizados métodos numéricos, os quais, diferentemente dos métodos analíticos, são obtidos como uma tabela de valores da função em diversos valores da variável independente. Desta forma, praticamente qualquer EDO pode ser resolvida numericamente."
   ]
  },
  {
   "cell_type": "markdown",
   "id": "c93ee75c",
   "metadata": {},
   "source": [
    "###### Exemplo \n",
    "\n",
    "Considere o problema de valor inicial e resolva utilizando o método de Euler.\n",
    "\n",
    "u'(t) = 2u(t)<br>\n",
    "u(0) = 1"
   ]
  },
  {
   "cell_type": "code",
   "execution_count": 1,
   "id": "54b0fb7b",
   "metadata": {},
   "outputs": [
    {
     "name": "stdout",
     "output_type": "stream",
     "text": [
      "Passo   Valor de u\n",
      "0.0     1.0000\n",
      "0.2     1.4000\n",
      "0.4     1.9600\n",
      "0.6     2.7440\n",
      "0.8     3.8416\n",
      "1.0     5.3782\n"
     ]
    }
   ],
   "source": [
    "import numpy as np\n",
    "\n",
    "#define f(t,u)  \n",
    "def f(t,u):  \n",
    "    return 2*u  \n",
    " \n",
    "#tamanho e num. de passos  \n",
    "h = 0.2  \n",
    "N = 6  \n",
    " \n",
    "#cria vetor t e u  \n",
    "t = np.empty(N)  \n",
    "u = np.copy(t)  \n",
    " \n",
    "#C.I.  \n",
    "t[0] = 0  \n",
    "u[0] = 1  \n",
    " \n",
    "#iteracoes  \n",
    "for i in np.arange(N-1):  \n",
    "    t[i+1] = t[i] + h  \n",
    "    u[i+1] = u[i] + h*f(t[i],u[i])  \n",
    " \n",
    "#imprime  \n",
    "print(\"Passo\", \"  Valor de u\")\n",
    "for i,tt in enumerate(t):  \n",
    "    print(\"%1.1f     %1.4f\" % (t[i],u[i]))"
   ]
  },
  {
   "cell_type": "markdown",
   "id": "a27675b4",
   "metadata": {},
   "source": [
    "# Explicação sobre circuitos"
   ]
  },
  {
   "cell_type": "markdown",
   "id": "380c5614",
   "metadata": {},
   "source": [
    "Neste trabalho, iremos tratar de aplicações das EDOs voltadas para circuitos elétricos. Porém, antes de iniciar a resolução do problema, vejamos uma breve explicação sobre os tipos de circuitos e componentes dos mesmos."
   ]
  },
  {
   "cell_type": "markdown",
   "id": "2ee37d79",
   "metadata": {},
   "source": [
    "### Definições básicas"
   ]
  },
  {
   "cell_type": "markdown",
   "id": "d1d54890",
   "metadata": {},
   "source": [
    "Um circuito elétrico é definido como um conjunto de componentes elétricos ligados entre si de modo a formar um percurso fechado através do qual pode circular uma corrente (DORF, Richard C.; SVOBODA, A. S. James., 2016, p.1).\n",
    "\n",
    "Carga é a quantidade de eletricidade responsável pelos fenômenos elétricos.\n",
    "\n",
    "Corrente é a taxa de variação do fluxo de carga elétrica em um determinado ponto.\n",
    "\n",
    "A tensão entre os terminais de um componente é o trabalho (energia) necessário(a) para transportar uma unidade de carga positiva do terminal – para o terminal +. A unidade de tensão é o volt, V.\n",
    "\n",
    "Potência é a taxa com a qual a energia é fornecida ou absorvida.\n",
    "\n",
    "Resistor é um componente ou dispositivo que se opõe à passagem de corrente elétrica; é representada pelo símbolo R.\n",
    "\n",
    "Indutor é um componente capaz de armazenar energia na forma de um campo magnético criado por uma corrente elétrica.\n",
    "\n",
    "Capacitor é um componente capaz de armazenar energia na forma de um campo elétrico criado por cargas elétricas positivas e negativas.\n",
    "\n",
    "De forma simples, malha é um circuito fechado, incluindo vários componentes elétricos, fem e resistências.\n",
    "\n",
    "Nó, é o ponto de encontro de três ou mais ramos de um circuito, tendo cada ramo um ou mais componentes elétricos."
   ]
  },
  {
   "cell_type": "markdown",
   "id": "38b65c94",
   "metadata": {},
   "source": [
    "### Tipos de circuitos"
   ]
  },
  {
   "cell_type": "markdown",
   "id": "9760074c",
   "metadata": {},
   "source": [
    "\n",
    "Os circuitos elétricos podem ser classificados quanto a quantidade de componentes contidos no circuito. Por exemplo, existem circuitos chamados de RL, RC e RLC. Os circuitos RL são compostos por resistores e indutores, os circuitos RC são compostos por resistores e capacitores e os circuitos RLC são compostos pelos três dispositivos. Ou também, em relação à disposição dos componentes elétricos. Três das principais formas de classificação que levam em conta a forma como os circuitos estão montados são:<br><br>\n",
    "• Circuitos em paralelo<br>\n",
    "Um circuito paralelo é um circuito que possui duas ou mais cargas, onde todas as cargas recebem uma corrente dividida e proporcional à cada uma. Portanto, há um ponto de derivação que conecta todas as cargas diretamente à fonte de tensão.\n",
    "O circuito tem esse nome justamente porque as suas cargas são ligadas em paralelo uma com a outra, garantindo assim que quando uma carga parar de funcionar ou for seccionada, o resto do circuito continue funcionando normalmente.\n",
    "O circuito paralelo faz com que a corrente fornecida seja dividida para cada carga de acordo com a sua resistência, proporcionalmente. Porém, a tensão que chega em todas as cargas deste circuito é a mesma.\n",
    "<br>\n",
    "<img src= \"RLC_paralelo.png\"\n",
    "     width = \"200\"\n",
    "     height = \"250\">\n",
    "     \n",
    "<div align = \"right\">\n",
    "    <font size = \"3\">(Figura 3)</font>\n",
    "</div>\n",
    "\n",
    "<br>\n",
    "<br>\n",
    "• Circuitos em série<br>\n",
    "Ao contrário do circuito paralelo, o circuito em série não oferece mais de um caminho para a corrente passar e se dividir. Neste circuito todas as cargas são ligadas em sequência, o que disponibiliza apenas um caminho para a corrente elétrica.\n",
    "O fato de haver somente um caminho faz com que todas as cargas dos circuitos recebam a mesma corrente elétrica. Porém, se a resistência das cargas não for igual, a tensão irá variar de carga em carga, sendo proporcional à resistência de cada uma.\n",
    "Como dito em seu nome, este circuito é ligado em série, ou seja, uma carga após a outra. Isso pode oferecer uma grande desvantagem, qualquer carga que parar de funcionar fará com que todas as outras cargas que estiverem após ela parem também.\n",
    "<br>\n",
    "<img src = \"RLC_serie.png\"\n",
    "     width = \"125\"\n",
    "     height = \"125\">\n",
    "<div align = \"right\">\n",
    "    <font size = \"3\">(Figura 4)</font>\n",
    "</div>\n",
    "\n",
    "<br>\n",
    "<br>\n",
    "\n",
    "• Circuitos mistos<br>\n",
    "Este circuito basicamente a junção dos dois anteriores. Um circuito misto possui três cargas ou mais, onde uma parte é ligada em série e a outra é ligada em paralelo.\n",
    "A corrente elétrica se comporta da seguinte maneira neste circuito, nas cargas em paralelo ela se divide e nas cargas em série ela permanece a mesma que está chegando. Porém, a sua quantidade varia de acordo com a posição das cargas em paralelo e em série.\n",
    "É importante atentar se a ligação em paralelo está após a ligação em série, porque se a carga ligada em série for seccionada, a ligação em paralelo também será.\n",
    "<br>\n",
    "<img src = \"RLC_misto.png\"\n",
    "     width = \"200\"\n",
    "     height = \"250\">\n",
    "\n",
    "<div align = \"right\">\n",
    "    <font size = \"3\">(Figura 5)</font>\n",
    "</div>\n",
    "\n",
    "<br>\n",
    "<br>"
   ]
  },
  {
   "cell_type": "markdown",
   "id": "a46700c9",
   "metadata": {},
   "source": [
    "### Leis básicas"
   ]
  },
  {
   "cell_type": "markdown",
   "id": "16f55e3f",
   "metadata": {},
   "source": [
    "Determinar de forma efetiva os valores de variáveis como corrente, tensão e potência em um circuito requer a interpretação de algumas leis fundamentais que regem os circuitos elétricos, como a lei de Ohm e as leis de Kirchhoff, de acordo com ALEXANDER, C. K.; SADIKU, Matthew N. O. (2013, p. 27).<br><br>\n",
    "• Lei de Ohm<br>\n",
    "A lei de Ohm afirma que a tensão v em um resistor é diretamente proporcional à corrente i através dele, e é dada pela seguinte equação:\n",
    "<br>\n",
    "<img src = \"Ohm.jpg\"\n",
    "     widht = \"10\"\n",
    "     height = \"10\">\n",
    "     \n",
    "<div align = \"right\">\n",
    "    <font size = \"3\">(Figura 5)</font>\n",
    "</div>\n",
    "\n",
    "<br>\n",
    "<br>\n",
    "• 1ª Lei de Kirchhoff, Lei de Kirchhoff para Correntes (LKC) ou Lei dos Nós<br>\n",
    "A 1ª Lei de Kirchhoff diz que a soma algébrica das correntes em um nó em qualquer instante é zero. Em outras palavras, pode-se dizer que a soma das correntes que entram em um nó é igual a soma das correntes que saem desse nó (<b> imagens tal e tal</b>). Matematicamente, quer dizer o seguinte:\n",
    "<br>\n",
    "<img src = \"LKC.png\"\n",
    "     widht = \"50\"\n",
    "     height = \"50\">\n",
    "     \n",
    "<div align = \"right\">\n",
    "    <font size = \"3\">(Figura 6)</font>\n",
    "</div>\n",
    "\n",
    "<br>\n",
    "<br>\n",
    "• 2ª Lei de Kirchhoff, Lei de Kirchhoff para Tensão (LKT) ou Lei das Malhas<br>\n",
    "A 2ª Lei de Kirchhoff diz que a soma algébrica de todas as tensões em torno de um caminho fechado (ou laço) é zero. Em outras palavras, pode-se dizer que a soma das quedas de tensão é igual à soma das elevações de tensão.\n",
    "<br>\n",
    "<img src = \"LKT.png\"\n",
    "     widht = \"50\"\n",
    "     height = \"50\">\n",
    "     \n",
    "<div align = \"right\">\n",
    "    <font size = \"3\">(Figura 7)</font>\n",
    "</div>\n",
    "\n",
    "<br>\n",
    "<br>"
   ]
  },
  {
   "cell_type": "markdown",
   "id": "30380be3",
   "metadata": {},
   "source": []
  },
  {
   "cell_type": "markdown",
   "id": "87caccb7",
   "metadata": {},
   "source": []
  },
  {
   "cell_type": "markdown",
   "id": "347616bb",
   "metadata": {},
   "source": []
  },
  {
   "cell_type": "markdown",
   "id": "394a6905",
   "metadata": {},
   "source": []
  },
  {
   "cell_type": "markdown",
   "id": "b9f3a2da",
   "metadata": {},
   "source": []
  },
  {
   "cell_type": "markdown",
   "id": "e3802419",
   "metadata": {},
   "source": []
  },
  {
   "cell_type": "markdown",
   "id": "832728ba",
   "metadata": {},
   "source": [
    "## Referências\n",
    "\n",
    "https://www.ufrgs.br/reamat/CalculoNumerico/livro-py/pdvi-metodo_de_euler.html<br><br>\n",
    "http://minerva.ufsc.br/~natalia/teaching/FSC5194-2016-2/projetos/muryel_RK4/MuryelGuolo_RK4.pdf<br><br>\n",
    "https://repositorio.utfpr.edu.br/jspui/bitstream/1/7352/1/CP_DAMAT_2014_2_02.pdf<br><br>\n",
    "https://www.mundodaeletrica.com.br/tipos-de-circuitos-eletricos-quais-sao/<br><br>\n",
    "https://integrada.minhabiblioteca.com.br/reader/books/9788521631309/epubcfi/6/34[%3Bvnd.vst.idref%3Dchapter07]!/4/60/4%4054:58 (POR A CITAÇÃO DO LIVRO DIREITO)<br><br>\n",
    "https://integrada.minhabiblioteca.com.br/reader/books/9788580551730/pageid/244 (POR A CITAÇÃO DO LIVRO DIREITO)<br><br>\n",
    "https://www.google.com/url?sa=i&url=https%3A%2F%2Fpt.m.wikipedia.org%2Fwiki%2FFicheiro%3ARLC_series_circuit_v1.svg&psig=AOvVaw0PwRPDw8Gb7PjYvUcrTVSO&ust=1669592795702000&source=images&cd=vfe&ved=0CBAQjRxqFwoTCJiusf6DzfsCFQAAAAAdAAAAABAE<br><br>\n",
    "https://www.google.com/url?sa=i&url=https%3A%2F%2Fwww.researchgate.net%2Ffigure%2FFigura-76-Circuito-RLC-paralelo-Fonte-CTISM-adaptado-dos-autores-Dados-R-30-O-XL_fig4_334534941&psig=AOvVaw2PzzFs7phQlcjUr6Pdmqe3&ust=1669592997594000&source=images&cd=vfe&ved=0CBAQjRxqFwoTCKCqw96EzfsCFQAAAAAdAAAAABAS<br><br>\n",
    "https://www.if.ufrgs.br/tex/fis142/mod07/m_s01.html#:~:text=Entende-se%20por%20malha%2C%20um,um%20ou%20mais%20componentes%20elétricos.<br><br>\n",
    "https://images.educamaisbrasil.com.br/content/banco_de_imagens/guia-de-estudo/D/leis-de-ohm-segunda-lei.jpg<br><br>\n",
    "https://encrypted-tbn0.gstatic.com/images?q=tbn:ANd9GcSzoQb5AFdhHPM5i1JwdG_RoUEa2NfEnexsbmZFi_qp_2jwKFMsPfGk9NAMZ5PGO7khd-E&usqp=CAU<br><br>"
   ]
  },
  {
   "cell_type": "code",
   "execution_count": null,
   "id": "0b33768e",
   "metadata": {},
   "outputs": [],
   "source": []
  }
 ],
 "metadata": {
  "kernelspec": {
   "display_name": "Python 3 (ipykernel)",
   "language": "python",
   "name": "python3"
  },
  "language_info": {
   "codemirror_mode": {
    "name": "ipython",
    "version": 3
   },
   "file_extension": ".py",
   "mimetype": "text/x-python",
   "name": "python",
   "nbconvert_exporter": "python",
   "pygments_lexer": "ipython3",
   "version": "3.11.0"
  }
 },
 "nbformat": 4,
 "nbformat_minor": 5
}
